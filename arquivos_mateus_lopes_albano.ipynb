{
  "cells": [
    {
      "cell_type": "markdown",
      "metadata": {
        "id": "view-in-github",
        "colab_type": "text"
      },
      "source": [
        "<a href=\"https://colab.research.google.com/github/mateus-lopes/BSI-Atividades/blob/main/arquivos_mateus_lopes_albano.ipynb\" target=\"_parent\"><img src=\"https://colab.research.google.com/assets/colab-badge.svg\" alt=\"Open In Colab\"/></a>"
      ]
    },
    {
      "cell_type": "code",
      "execution_count": null,
      "metadata": {
        "colab": {
          "background_save": true
        },
        "id": "O8H5fBxTP58-",
        "outputId": "6f47df8c-90ee-4b23-af68-8880faa5e26a"
      },
      "outputs": [
        {
          "name": "stdout",
          "output_type": "stream",
          "text": [
            "Mounted at /gdrive\n",
            "Arquivo já existe, e não será baixado.\n"
          ]
        }
      ],
      "source": [
        "from google.colab import drive\n",
        "drive.mount('/gdrive',  force_remount=True)\n",
        "from collections import Counter\n",
        "import os\n",
        "\n",
        "if os.path.exists('AmorCrioulo.txt'):\n",
        "  print(\"Arquivo já existe, e não será baixado.\")\n",
        "else:\n",
        "  print(\"Arquivo não existe, baixando...\")\n",
        "  get_ipython().system('wget \"https://www.gutenberg.org/files/24919/24919-8.txt\" -O AmorCrioulo.txt')\n",
        "\n",
        "with open('AmorCrioulo.txt', encoding='ISO-8859-1') as file:\n",
        "  texto = file.read().lower()\n",
        "\n",
        "texto_sem_pontuacao = ''\n",
        "for c in texto:\n",
        "    if c.isalpha() or c == ' ':\n",
        "        texto_sem_pontuacao += c\n",
        "\n",
        "palavras = texto_sem_pontuacao.split()\n",
        "letras = [c for c in texto if c.isalpha()]\n",
        "\n",
        "frequencia_letras = {}\n",
        "for letra in letras:\n",
        "  frequencia_letras[letra] = frequencia_letras.get(letra, 0) + 1\n",
        "\n",
        "frequencia_letras = Counter(letras)\n"
      ]
    },
    {
      "cell_type": "code",
      "execution_count": null,
      "metadata": {
        "colab": {
          "background_save": true
        },
        "id": "RRNHT9FHROjM",
        "outputId": "2a8aa48b-c07d-48a1-9291-2faa7da6f0cb"
      },
      "outputs": [
        {
          "data": {
            "text/plain": [
              "<BarContainer object of 15 artists>"
            ]
          },
          "execution_count": 50,
          "metadata": {},
          "output_type": "execute_result"
        },
        {
          "data": {
            "image/png": "[encoded data removed]",
            "text/plain": [
              "<Figure size 432x288 with 1 Axes>"
            ]
          },
          "metadata": {},
          "output_type": "display_data"
        }
      ],
      "source": [
        "import matplotlib.pyplot as plt\n",
        "x, y = zip(*frequencia_letras.most_common(15))\n",
        "plt.title('Frequência de letras em Português (Amor Crioulo)')\n",
        "plt.bar(x, y)"
      ]
    }
  ],
  "metadata": {
    "colab": {
      "provenance": [],
      "toc_visible": true,
      "authorship_tag": "ABX9TyNoiT+a/5VxAj1PKq/WyTz5",
      "include_colab_link": true
    },
    "kernelspec": {
      "display_name": "Python 3",
      "name": "python3"
    },
    "language_info": {
      "name": "python"
    }
  },
  "nbformat": 4,
  "nbformat_minor": 0
}